{
 "cells": [
  {
   "cell_type": "code",
   "execution_count": 2,
   "id": "72827755",
   "metadata": {},
   "outputs": [],
   "source": [
    "import pandas as pd"
   ]
  },
  {
   "cell_type": "code",
   "execution_count": 3,
   "id": "c369aeb2",
   "metadata": {},
   "outputs": [],
   "source": [
    "df = pd.read_csv(\"NSE-TATAGLOBAL.csv\")"
   ]
  },
  {
   "cell_type": "code",
   "execution_count": 4,
   "id": "66da9629",
   "metadata": {},
   "outputs": [
    {
     "data": {
      "text/html": [
       "<div>\n",
       "<style scoped>\n",
       "    .dataframe tbody tr th:only-of-type {\n",
       "        vertical-align: middle;\n",
       "    }\n",
       "\n",
       "    .dataframe tbody tr th {\n",
       "        vertical-align: top;\n",
       "    }\n",
       "\n",
       "    .dataframe thead th {\n",
       "        text-align: right;\n",
       "    }\n",
       "</style>\n",
       "<table border=\"1\" class=\"dataframe\">\n",
       "  <thead>\n",
       "    <tr style=\"text-align: right;\">\n",
       "      <th></th>\n",
       "      <th>Date</th>\n",
       "      <th>Open</th>\n",
       "      <th>High</th>\n",
       "      <th>Low</th>\n",
       "      <th>Last</th>\n",
       "      <th>Close</th>\n",
       "      <th>Total Trade Quantity</th>\n",
       "      <th>Turnover (Lacs)</th>\n",
       "    </tr>\n",
       "  </thead>\n",
       "  <tbody>\n",
       "    <tr>\n",
       "      <th>0</th>\n",
       "      <td>28-09-2018</td>\n",
       "      <td>234.05</td>\n",
       "      <td>235.95</td>\n",
       "      <td>230.20</td>\n",
       "      <td>233.50</td>\n",
       "      <td>233.75</td>\n",
       "      <td>3069914</td>\n",
       "      <td>7162.35</td>\n",
       "    </tr>\n",
       "    <tr>\n",
       "      <th>1</th>\n",
       "      <td>27-09-2018</td>\n",
       "      <td>234.55</td>\n",
       "      <td>236.80</td>\n",
       "      <td>231.10</td>\n",
       "      <td>233.80</td>\n",
       "      <td>233.25</td>\n",
       "      <td>5082859</td>\n",
       "      <td>11859.95</td>\n",
       "    </tr>\n",
       "    <tr>\n",
       "      <th>2</th>\n",
       "      <td>26-09-2018</td>\n",
       "      <td>240.00</td>\n",
       "      <td>240.00</td>\n",
       "      <td>232.50</td>\n",
       "      <td>235.00</td>\n",
       "      <td>234.25</td>\n",
       "      <td>2240909</td>\n",
       "      <td>5248.60</td>\n",
       "    </tr>\n",
       "    <tr>\n",
       "      <th>3</th>\n",
       "      <td>25-09-2018</td>\n",
       "      <td>233.30</td>\n",
       "      <td>236.75</td>\n",
       "      <td>232.00</td>\n",
       "      <td>236.25</td>\n",
       "      <td>236.10</td>\n",
       "      <td>2349368</td>\n",
       "      <td>5503.90</td>\n",
       "    </tr>\n",
       "    <tr>\n",
       "      <th>4</th>\n",
       "      <td>24-09-2018</td>\n",
       "      <td>233.55</td>\n",
       "      <td>239.20</td>\n",
       "      <td>230.75</td>\n",
       "      <td>234.00</td>\n",
       "      <td>233.30</td>\n",
       "      <td>3423509</td>\n",
       "      <td>7999.55</td>\n",
       "    </tr>\n",
       "  </tbody>\n",
       "</table>\n",
       "</div>"
      ],
      "text/plain": [
       "         Date    Open    High     Low    Last   Close  Total Trade Quantity  \\\n",
       "0  28-09-2018  234.05  235.95  230.20  233.50  233.75               3069914   \n",
       "1  27-09-2018  234.55  236.80  231.10  233.80  233.25               5082859   \n",
       "2  26-09-2018  240.00  240.00  232.50  235.00  234.25               2240909   \n",
       "3  25-09-2018  233.30  236.75  232.00  236.25  236.10               2349368   \n",
       "4  24-09-2018  233.55  239.20  230.75  234.00  233.30               3423509   \n",
       "\n",
       "   Turnover (Lacs)  \n",
       "0          7162.35  \n",
       "1         11859.95  \n",
       "2          5248.60  \n",
       "3          5503.90  \n",
       "4          7999.55  "
      ]
     },
     "execution_count": 4,
     "metadata": {},
     "output_type": "execute_result"
    }
   ],
   "source": [
    "df.head()"
   ]
  },
  {
   "cell_type": "code",
   "execution_count": 5,
   "id": "4f6a9f6a",
   "metadata": {},
   "outputs": [],
   "source": [
    "df1 = df.reset_index()['Close']"
   ]
  },
  {
   "cell_type": "code",
   "execution_count": 6,
   "id": "091c16ef",
   "metadata": {},
   "outputs": [
    {
     "data": {
      "text/plain": [
       "(2035,)"
      ]
     },
     "execution_count": 6,
     "metadata": {},
     "output_type": "execute_result"
    }
   ],
   "source": [
    "df1.shape"
   ]
  },
  {
   "cell_type": "code",
   "execution_count": 7,
   "id": "ec86a00a",
   "metadata": {},
   "outputs": [
    {
     "data": {
      "text/plain": [
       "0       233.75\n",
       "1       233.25\n",
       "2       234.25\n",
       "3       236.10\n",
       "4       233.30\n",
       "         ...  \n",
       "2030    118.65\n",
       "2031    117.60\n",
       "2032    120.65\n",
       "2033    120.90\n",
       "2034    121.55\n",
       "Name: Close, Length: 2035, dtype: float64"
      ]
     },
     "execution_count": 7,
     "metadata": {},
     "output_type": "execute_result"
    }
   ],
   "source": [
    "df1"
   ]
  },
  {
   "cell_type": "code",
   "execution_count": 8,
   "id": "a3647baa",
   "metadata": {},
   "outputs": [
    {
     "data": {
      "text/plain": [
       "[<matplotlib.lines.Line2D at 0x20cc58ff070>]"
      ]
     },
     "execution_count": 8,
     "metadata": {},
     "output_type": "execute_result"
    },
    {
     "data": {
      "image/png": "[encoded data removed]",
      "text/plain": [
       "<Figure size 432x288 with 1 Axes>"
      ]
     },
     "metadata": {
      "needs_background": "light"
     },
     "output_type": "display_data"
    }
   ],
   "source": [
    "import matplotlib.pyplot as plt\n",
    "plt.plot(df1)"
   ]
  },
  {
   "cell_type": "raw",
   "id": "4d6f65ca",
   "metadata": {},
   "source": [
    "LSTM is very sensitive to the scale of the data. So we apply MinMax Scaler"
   ]
  },
  {
   "cell_type": "code",
   "execution_count": 9,
   "id": "fa265c87",
   "metadata": {},
   "outputs": [],
   "source": [
    "import numpy as np"
   ]
  },
  {
   "cell_type": "code",
   "execution_count": 10,
   "id": "a60734e1",
   "metadata": {},
   "outputs": [],
   "source": [
    "from sklearn.preprocessing import MinMaxScaler\n",
    "scaler = MinMaxScaler(feature_range=(0,1))\n",
    "df1 = scaler.fit_transform(np.array(df1).reshape(-1,1))"
   ]
  },
  {
   "cell_type": "code",
   "execution_count": 11,
   "id": "967cc091",
   "metadata": {},
   "outputs": [
    {
     "data": {
      "text/plain": [
       "(2035, 1)"
      ]
     },
     "execution_count": 11,
     "metadata": {},
     "output_type": "execute_result"
    }
   ],
   "source": [
    "df1.shape"
   ]
  },
  {
   "cell_type": "code",
   "execution_count": 12,
   "id": "b8848cd2",
   "metadata": {},
   "outputs": [
    {
     "data": {
      "text/plain": [
       "array([[0.62418301],\n",
       "       [0.62214052],\n",
       "       [0.62622549],\n",
       "       ...,\n",
       "       [0.1621732 ],\n",
       "       [0.16319444],\n",
       "       [0.16584967]])"
      ]
     },
     "execution_count": 12,
     "metadata": {},
     "output_type": "execute_result"
    }
   ],
   "source": [
    "df1"
   ]
  },
  {
   "cell_type": "markdown",
   "id": "f1905245",
   "metadata": {},
   "source": [
    "# Training and Testing"
   ]
  },
  {
   "cell_type": "code",
   "execution_count": 13,
   "id": "b40edd26",
   "metadata": {},
   "outputs": [],
   "source": [
    "#Spliting the dataset into train and test split \n",
    "training_size = int(len(df1)*0.65)\n",
    "test_size = len(df1)-training_size\n",
    "train_data,test_data = df1[0:training_size,:],df1[training_size:len(df1),:1]"
   ]
  },
  {
   "cell_type": "code",
   "execution_count": 14,
   "id": "de2da68a",
   "metadata": {},
   "outputs": [
    {
     "data": {
      "text/plain": [
       "1322"
      ]
     },
     "execution_count": 14,
     "metadata": {},
     "output_type": "execute_result"
    }
   ],
   "source": [
    "training_size"
   ]
  },
  {
   "cell_type": "code",
   "execution_count": 15,
   "id": "a02bc116",
   "metadata": {},
   "outputs": [
    {
     "data": {
      "text/plain": [
       "713"
      ]
     },
     "execution_count": 15,
     "metadata": {},
     "output_type": "execute_result"
    }
   ],
   "source": [
    "test_size"
   ]
  },
  {
   "cell_type": "code",
   "execution_count": 16,
   "id": "e033191f",
   "metadata": {},
   "outputs": [
    {
     "data": {
      "text/plain": [
       "(1322, 713)"
      ]
     },
     "execution_count": 16,
     "metadata": {},
     "output_type": "execute_result"
    }
   ],
   "source": [
    "len(train_data), len(test_data)"
   ]
  },
  {
   "cell_type": "code",
   "execution_count": 20,
   "id": "a098b4ad",
   "metadata": {},
   "outputs": [],
   "source": [
    "import numpy \n",
    "#convert an array of values into a dataset matrix \n",
    "def create_dataset(dataset,time_step=1):\n",
    "    dataX,dataY = [],[]\n",
    "    for i in range(len(dataset)-time_step-1):\n",
    "        a = dataset[i:(i+time_step),0]\n",
    "        dataX.append(a)\n",
    "        dataY.append(dataset[i+ time_step, 0])\n",
    "    return numpy.array(dataX), numpy.array(dataY)"
   ]
  },
  {
   "cell_type": "code",
   "execution_count": 21,
   "id": "d6976083",
   "metadata": {},
   "outputs": [],
   "source": [
    "#reshape unto X=t, t+1,t+2,t+3 and Y=t+4\n",
    "time_step = 100\n",
    "X_train,y_train = create_dataset(train_data, time_step)\n",
    "X_test, ytest = create_dataset(test_data,time_step)"
   ]
  },
  {
   "cell_type": "code",
   "execution_count": 22,
   "id": "3bd873ed",
   "metadata": {},
   "outputs": [
    {
     "name": "stdout",
     "output_type": "stream",
     "text": [
      "[[0.62418301 0.62214052 0.62622549 ... 0.83455882 0.86213235 0.85273693]\n",
      " [0.62214052 0.62622549 0.63378268 ... 0.86213235 0.85273693 0.87111928]\n",
      " [0.62622549 0.63378268 0.62234477 ... 0.85273693 0.87111928 0.84497549]\n",
      " ...\n",
      " [0.34517974 0.31781046 0.33047386 ... 0.2816585  0.27001634 0.26531863]\n",
      " [0.31781046 0.33047386 0.32128268 ... 0.27001634 0.26531863 0.27389706]\n",
      " [0.33047386 0.32128268 0.34007353 ... 0.26531863 0.27389706 0.25347222]]\n"
     ]
    }
   ],
   "source": [
    "print(X_train)"
   ]
  },
  {
   "cell_type": "code",
   "execution_count": 23,
   "id": "cefa147e",
   "metadata": {},
   "outputs": [
    {
     "name": "stdout",
     "output_type": "stream",
     "text": [
      "(612, 100)\n",
      "(1221,)\n"
     ]
    },
    {
     "data": {
      "text/plain": [
       "(None, None)"
      ]
     },
     "execution_count": 23,
     "metadata": {},
     "output_type": "execute_result"
    }
   ],
   "source": [
    "print(X_test.shape), print(y_train.shape)"
   ]
  },
  {
   "cell_type": "code",
   "execution_count": 42,
   "id": "9ded72f6",
   "metadata": {},
   "outputs": [],
   "source": [
    "#reshape input to be [samples, time steps, features]\n",
    "X_train = X_train.reshape(X_train.shape[0],X_train.shape[1],1)\n",
    "X_test = X_test.reshape(X_test.shape[0],X_test.shape[1],1)"
   ]
  },
  {
   "cell_type": "code",
   "execution_count": 25,
   "id": "9ba300ac",
   "metadata": {},
   "outputs": [],
   "source": [
    "### Create the Stacked LSTM model\n",
    "from tensorflow.keras.models import Sequential\n",
    "from tensorflow.keras.layers import Dense\n",
    "from tensorflow.keras.layers import LSTM"
   ]
  },
  {
   "cell_type": "code",
   "execution_count": 26,
   "id": "23ba06d0",
   "metadata": {},
   "outputs": [],
   "source": [
    "model=Sequential()\n",
    "model.add(LSTM(50,return_sequences=True,input_shape=(100,1)))\n",
    "model.add(LSTM(50,return_sequences=True))\n",
    "model.add(LSTM(50))\n",
    "model.add(Dense(1))\n",
    "model.compile(loss='mean_squared_error',optimizer='adam')"
   ]
  },
  {
   "cell_type": "code",
   "execution_count": 27,
   "id": "74fb8142",
   "metadata": {},
   "outputs": [
    {
     "name": "stdout",
     "output_type": "stream",
     "text": [
      "Model: \"sequential\"\n",
      "_________________________________________________________________\n",
      " Layer (type)                Output Shape              Param #   \n",
      "=================================================================\n",
      " lstm (LSTM)                 (None, 100, 50)           10400     \n",
      "                                                                 \n",
      " lstm_1 (LSTM)               (None, 100, 50)           20200     \n",
      "                                                                 \n",
      " lstm_2 (LSTM)               (None, 50)                20200     \n",
      "                                                                 \n",
      " dense (Dense)               (None, 1)                 51        \n",
      "                                                                 \n",
      "=================================================================\n",
      "Total params: 50,851\n",
      "Trainable params: 50,851\n",
      "Non-trainable params: 0\n",
      "_________________________________________________________________\n"
     ]
    }
   ],
   "source": [
    "model.summary()"
   ]
  },
  {
   "cell_type": "code",
   "execution_count": 28,
   "id": "cee0031c",
   "metadata": {},
   "outputs": [
    {
     "name": "stdout",
     "output_type": "stream",
     "text": [
      "Model: \"sequential\"\n",
      "_________________________________________________________________\n",
      " Layer (type)                Output Shape              Param #   \n",
      "=================================================================\n",
      " lstm (LSTM)                 (None, 100, 50)           10400     \n",
      "                                                                 \n",
      " lstm_1 (LSTM)               (None, 100, 50)           20200     \n",
      "                                                                 \n",
      " lstm_2 (LSTM)               (None, 50)                20200     \n",
      "                                                                 \n",
      " dense (Dense)               (None, 1)                 51        \n",
      "                                                                 \n",
      "=================================================================\n",
      "Total params: 50,851\n",
      "Trainable params: 50,851\n",
      "Non-trainable params: 0\n",
      "_________________________________________________________________\n"
     ]
    }
   ],
   "source": [
    "model.summary()"
   ]
  },
  {
   "cell_type": "code",
   "execution_count": 29,
   "id": "f5793839",
   "metadata": {},
   "outputs": [
    {
     "name": "stdout",
     "output_type": "stream",
     "text": [
      "Epoch 1/100\n",
      "20/20 [==============================] - 14s 299ms/step - loss: 0.0290 - val_loss: 0.0058\n",
      "Epoch 2/100\n",
      "20/20 [==============================] - 5s 237ms/step - loss: 0.0035 - val_loss: 0.0026\n",
      "Epoch 3/100\n",
      "20/20 [==============================] - 4s 201ms/step - loss: 0.0027 - val_loss: 9.1740e-04\n",
      "Epoch 4/100\n",
      "20/20 [==============================] - 5s 246ms/step - loss: 0.0017 - val_loss: 0.0011\n",
      "Epoch 5/100\n",
      "20/20 [==============================] - 6s 281ms/step - loss: 0.0015 - val_loss: 0.0011\n",
      "Epoch 6/100\n",
      "20/20 [==============================] - 6s 322ms/step - loss: 0.0014 - val_loss: 0.0010\n",
      "Epoch 7/100\n",
      "20/20 [==============================] - 6s 320ms/step - loss: 0.0013 - val_loss: 0.0013\n",
      "Epoch 8/100\n",
      "20/20 [==============================] - 7s 334ms/step - loss: 0.0012 - val_loss: 9.6893e-04\n",
      "Epoch 9/100\n",
      "20/20 [==============================] - 6s 324ms/step - loss: 0.0012 - val_loss: 0.0011\n",
      "Epoch 10/100\n",
      "20/20 [==============================] - 6s 320ms/step - loss: 0.0012 - val_loss: 7.6896e-04\n",
      "Epoch 11/100\n",
      "20/20 [==============================] - 6s 315ms/step - loss: 0.0011 - val_loss: 0.0011\n",
      "Epoch 12/100\n",
      "20/20 [==============================] - 6s 321ms/step - loss: 0.0012 - val_loss: 8.2696e-04\n",
      "Epoch 13/100\n",
      "20/20 [==============================] - 6s 318ms/step - loss: 0.0011 - val_loss: 0.0013\n",
      "Epoch 14/100\n",
      "20/20 [==============================] - 6s 314ms/step - loss: 0.0010 - val_loss: 9.1051e-04\n",
      "Epoch 15/100\n",
      "20/20 [==============================] - 6s 323ms/step - loss: 9.8858e-04 - val_loss: 7.2653e-04\n",
      "Epoch 16/100\n",
      "20/20 [==============================] - 8s 398ms/step - loss: 8.8548e-04 - val_loss: 7.3445e-04\n",
      "Epoch 17/100\n",
      "20/20 [==============================] - 6s 311ms/step - loss: 8.7096e-04 - val_loss: 7.3279e-04\n",
      "Epoch 18/100\n",
      "20/20 [==============================] - 6s 314ms/step - loss: 8.6961e-04 - val_loss: 5.7365e-04\n",
      "Epoch 19/100\n",
      "20/20 [==============================] - 6s 319ms/step - loss: 8.6494e-04 - val_loss: 8.9105e-04\n",
      "Epoch 20/100\n",
      "20/20 [==============================] - 6s 315ms/step - loss: 9.8947e-04 - val_loss: 7.2935e-04\n",
      "Epoch 21/100\n",
      "20/20 [==============================] - 6s 320ms/step - loss: 7.9050e-04 - val_loss: 6.9641e-04\n",
      "Epoch 22/100\n",
      "20/20 [==============================] - 6s 313ms/step - loss: 7.9627e-04 - val_loss: 5.9519e-04\n",
      "Epoch 23/100\n",
      "20/20 [==============================] - 6s 301ms/step - loss: 7.8188e-04 - val_loss: 5.9250e-04\n",
      "Epoch 24/100\n",
      "20/20 [==============================] - 6s 307ms/step - loss: 7.8569e-04 - val_loss: 7.9278e-04\n",
      "Epoch 25/100\n",
      "20/20 [==============================] - 8s 401ms/step - loss: 7.8866e-04 - val_loss: 7.1292e-04\n",
      "Epoch 26/100\n",
      "20/20 [==============================] - 6s 323ms/step - loss: 9.0947e-04 - val_loss: 6.7656e-04\n",
      "Epoch 27/100\n",
      "20/20 [==============================] - 6s 313ms/step - loss: 8.6794e-04 - val_loss: 7.3984e-04\n",
      "Epoch 28/100\n",
      "20/20 [==============================] - 6s 316ms/step - loss: 7.0208e-04 - val_loss: 7.6118e-04\n",
      "Epoch 29/100\n",
      "20/20 [==============================] - 6s 311ms/step - loss: 6.7105e-04 - val_loss: 6.6589e-04\n",
      "Epoch 30/100\n",
      "20/20 [==============================] - 6s 309ms/step - loss: 9.0745e-04 - val_loss: 6.4162e-04\n",
      "Epoch 31/100\n",
      "20/20 [==============================] - 6s 311ms/step - loss: 6.9229e-04 - val_loss: 8.5823e-04\n",
      "Epoch 32/100\n",
      "20/20 [==============================] - 6s 308ms/step - loss: 7.6455e-04 - val_loss: 9.1475e-04\n",
      "Epoch 33/100\n",
      "20/20 [==============================] - 6s 310ms/step - loss: 6.5674e-04 - val_loss: 8.2338e-04\n",
      "Epoch 34/100\n",
      "20/20 [==============================] - 8s 398ms/step - loss: 6.4958e-04 - val_loss: 5.5025e-04\n",
      "Epoch 35/100\n",
      "20/20 [==============================] - 6s 308ms/step - loss: 7.0665e-04 - val_loss: 5.1142e-04\n",
      "Epoch 36/100\n",
      "20/20 [==============================] - 6s 325ms/step - loss: 6.2296e-04 - val_loss: 7.9628e-04\n",
      "Epoch 37/100\n",
      "20/20 [==============================] - 6s 307ms/step - loss: 7.3883e-04 - val_loss: 6.6658e-04\n",
      "Epoch 38/100\n",
      "20/20 [==============================] - 6s 319ms/step - loss: 6.7632e-04 - val_loss: 6.4461e-04\n",
      "Epoch 39/100\n",
      "20/20 [==============================] - 8s 414ms/step - loss: 6.1041e-04 - val_loss: 7.8166e-04\n",
      "Epoch 40/100\n",
      "20/20 [==============================] - 6s 317ms/step - loss: 6.0990e-04 - val_loss: 6.0452e-04\n",
      "Epoch 41/100\n",
      "20/20 [==============================] - 6s 322ms/step - loss: 5.9922e-04 - val_loss: 9.8770e-04\n",
      "Epoch 42/100\n",
      "20/20 [==============================] - 6s 313ms/step - loss: 8.2446e-04 - val_loss: 6.4729e-04\n",
      "Epoch 43/100\n",
      "20/20 [==============================] - 7s 330ms/step - loss: 6.2652e-04 - val_loss: 6.3874e-04\n",
      "Epoch 44/100\n",
      "20/20 [==============================] - 8s 410ms/step - loss: 5.6406e-04 - val_loss: 6.2503e-04\n",
      "Epoch 45/100\n",
      "20/20 [==============================] - 7s 370ms/step - loss: 6.0330e-04 - val_loss: 5.6606e-04\n",
      "Epoch 46/100\n",
      "20/20 [==============================] - 8s 405ms/step - loss: 6.0843e-04 - val_loss: 7.1997e-04\n",
      "Epoch 47/100\n",
      "20/20 [==============================] - 6s 310ms/step - loss: 7.3584e-04 - val_loss: 5.0984e-04\n",
      "Epoch 48/100\n",
      "20/20 [==============================] - 6s 307ms/step - loss: 0.0010 - val_loss: 4.5844e-04\n",
      "Epoch 49/100\n",
      "20/20 [==============================] - 6s 307ms/step - loss: 5.7392e-04 - val_loss: 6.6471e-04\n",
      "Epoch 50/100\n",
      "20/20 [==============================] - 6s 320ms/step - loss: 5.1975e-04 - val_loss: 5.0548e-04\n",
      "Epoch 51/100\n",
      "20/20 [==============================] - 6s 312ms/step - loss: 6.3189e-04 - val_loss: 4.8619e-04\n",
      "Epoch 52/100\n",
      "20/20 [==============================] - 6s 316ms/step - loss: 5.4869e-04 - val_loss: 6.0034e-04\n",
      "Epoch 53/100\n",
      "20/20 [==============================] - 6s 316ms/step - loss: 4.9792e-04 - val_loss: 4.5290e-04\n",
      "Epoch 54/100\n",
      "20/20 [==============================] - 8s 404ms/step - loss: 5.0280e-04 - val_loss: 5.1824e-04\n",
      "Epoch 55/100\n",
      "20/20 [==============================] - 6s 312ms/step - loss: 4.9106e-04 - val_loss: 4.7614e-04\n",
      "Epoch 56/100\n",
      "20/20 [==============================] - 6s 316ms/step - loss: 5.0851e-04 - val_loss: 4.2967e-04\n",
      "Epoch 57/100\n",
      "20/20 [==============================] - 6s 310ms/step - loss: 5.5047e-04 - val_loss: 7.5759e-04\n",
      "Epoch 58/100\n",
      "20/20 [==============================] - 6s 307ms/step - loss: 5.0299e-04 - val_loss: 5.8301e-04\n",
      "Epoch 59/100\n",
      "20/20 [==============================] - 6s 310ms/step - loss: 4.6635e-04 - val_loss: 5.1519e-04\n",
      "Epoch 60/100\n",
      "20/20 [==============================] - 6s 307ms/step - loss: 4.6799e-04 - val_loss: 4.0300e-04\n",
      "Epoch 61/100\n",
      "20/20 [==============================] - 6s 310ms/step - loss: 4.5824e-04 - val_loss: 4.7851e-04\n",
      "Epoch 62/100\n",
      "20/20 [==============================] - 6s 308ms/step - loss: 4.4515e-04 - val_loss: 5.0339e-04\n",
      "Epoch 63/100\n",
      "20/20 [==============================] - 8s 389ms/step - loss: 4.3563e-04 - val_loss: 3.9899e-04\n",
      "Epoch 64/100\n",
      "20/20 [==============================] - 6s 307ms/step - loss: 5.3061e-04 - val_loss: 3.6420e-04\n",
      "Epoch 65/100\n",
      "20/20 [==============================] - 6s 311ms/step - loss: 4.4224e-04 - val_loss: 7.2729e-04\n",
      "Epoch 66/100\n",
      "20/20 [==============================] - 6s 304ms/step - loss: 4.6118e-04 - val_loss: 5.9605e-04\n",
      "Epoch 67/100\n",
      "20/20 [==============================] - 6s 309ms/step - loss: 4.6486e-04 - val_loss: 3.8097e-04\n",
      "Epoch 68/100\n",
      "20/20 [==============================] - 6s 314ms/step - loss: 6.4502e-04 - val_loss: 4.1641e-04\n",
      "Epoch 69/100\n",
      "20/20 [==============================] - 6s 310ms/step - loss: 4.2612e-04 - val_loss: 5.2818e-04\n",
      "Epoch 70/100\n",
      "20/20 [==============================] - 6s 310ms/step - loss: 5.4119e-04 - val_loss: 7.0604e-04\n",
      "Epoch 71/100\n",
      "20/20 [==============================] - 6s 312ms/step - loss: 4.7440e-04 - val_loss: 3.4024e-04\n",
      "Epoch 72/100\n",
      "20/20 [==============================] - 8s 390ms/step - loss: 4.8549e-04 - val_loss: 3.4977e-04\n",
      "Epoch 73/100\n",
      "20/20 [==============================] - 7s 346ms/step - loss: 3.9538e-04 - val_loss: 4.7325e-04\n",
      "Epoch 74/100\n",
      "20/20 [==============================] - 6s 312ms/step - loss: 3.8764e-04 - val_loss: 3.7590e-04\n",
      "Epoch 75/100\n",
      "20/20 [==============================] - 6s 311ms/step - loss: 4.0546e-04 - val_loss: 4.4557e-04\n",
      "Epoch 76/100\n"
     ]
    },
    {
     "name": "stdout",
     "output_type": "stream",
     "text": [
      "20/20 [==============================] - 7s 330ms/step - loss: 3.9218e-04 - val_loss: 3.3040e-04\n",
      "Epoch 77/100\n",
      "20/20 [==============================] - 6s 310ms/step - loss: 3.8261e-04 - val_loss: 4.2851e-04\n",
      "Epoch 78/100\n",
      "20/20 [==============================] - 6s 314ms/step - loss: 3.6304e-04 - val_loss: 4.4058e-04\n",
      "Epoch 79/100\n",
      "20/20 [==============================] - 6s 306ms/step - loss: 3.8723e-04 - val_loss: 2.9206e-04\n",
      "Epoch 80/100\n",
      "20/20 [==============================] - 6s 320ms/step - loss: 3.4971e-04 - val_loss: 3.2025e-04\n",
      "Epoch 81/100\n",
      "20/20 [==============================] - 6s 320ms/step - loss: 3.4465e-04 - val_loss: 3.8806e-04\n",
      "Epoch 82/100\n",
      "20/20 [==============================] - 6s 313ms/step - loss: 3.2991e-04 - val_loss: 4.2662e-04\n",
      "Epoch 83/100\n",
      "20/20 [==============================] - 6s 304ms/step - loss: 5.3201e-04 - val_loss: 2.9302e-04\n",
      "Epoch 84/100\n",
      "20/20 [==============================] - 6s 313ms/step - loss: 3.6986e-04 - val_loss: 3.4034e-04\n",
      "Epoch 85/100\n",
      "20/20 [==============================] - 6s 310ms/step - loss: 3.3295e-04 - val_loss: 3.0392e-04\n",
      "Epoch 86/100\n",
      "20/20 [==============================] - 6s 309ms/step - loss: 3.2288e-04 - val_loss: 2.8279e-04\n",
      "Epoch 87/100\n",
      "20/20 [==============================] - 6s 311ms/step - loss: 3.1909e-04 - val_loss: 3.9706e-04\n",
      "Epoch 88/100\n",
      "20/20 [==============================] - 6s 312ms/step - loss: 3.3844e-04 - val_loss: 2.6020e-04\n",
      "Epoch 89/100\n",
      "20/20 [==============================] - 6s 317ms/step - loss: 3.0568e-04 - val_loss: 2.8074e-04\n",
      "Epoch 90/100\n",
      "20/20 [==============================] - 6s 311ms/step - loss: 3.2388e-04 - val_loss: 3.1948e-04\n",
      "Epoch 91/100\n",
      "20/20 [==============================] - 6s 316ms/step - loss: 2.9102e-04 - val_loss: 2.9350e-04\n",
      "Epoch 92/100\n",
      "20/20 [==============================] - 6s 317ms/step - loss: 3.3208e-04 - val_loss: 2.6356e-04\n",
      "Epoch 93/100\n",
      "20/20 [==============================] - 6s 315ms/step - loss: 2.9341e-04 - val_loss: 2.7412e-04\n",
      "Epoch 94/100\n",
      "20/20 [==============================] - 6s 309ms/step - loss: 2.9205e-04 - val_loss: 2.5034e-04\n",
      "Epoch 95/100\n",
      "20/20 [==============================] - 6s 311ms/step - loss: 2.7872e-04 - val_loss: 2.6407e-04\n",
      "Epoch 96/100\n",
      "20/20 [==============================] - 6s 318ms/step - loss: 3.1129e-04 - val_loss: 4.0895e-04\n",
      "Epoch 97/100\n",
      "20/20 [==============================] - 6s 313ms/step - loss: 2.9968e-04 - val_loss: 3.0315e-04\n",
      "Epoch 98/100\n",
      "20/20 [==============================] - 6s 314ms/step - loss: 2.7293e-04 - val_loss: 2.8289e-04\n",
      "Epoch 99/100\n",
      "20/20 [==============================] - 6s 310ms/step - loss: 2.9410e-04 - val_loss: 2.6652e-04\n",
      "Epoch 100/100\n",
      "20/20 [==============================] - 6s 325ms/step - loss: 2.7945e-04 - val_loss: 2.5519e-04\n"
     ]
    },
    {
     "data": {
      "text/plain": [
       "<keras.callbacks.History at 0x20cd1535e20>"
      ]
     },
     "execution_count": 29,
     "metadata": {},
     "output_type": "execute_result"
    }
   ],
   "source": [
    "model.fit(X_train,y_train,validation_data=(X_test,ytest),epochs=100,batch_size=64,verbose=1)"
   ]
  },
  {
   "cell_type": "code",
   "execution_count": 38,
   "id": "7229337f",
   "metadata": {},
   "outputs": [],
   "source": [
    "import tensorflow as tf"
   ]
  },
  {
   "cell_type": "code",
   "execution_count": 39,
   "id": "e01aa9bf",
   "metadata": {},
   "outputs": [
    {
     "data": {
      "text/plain": [
       "'2.11.0'"
      ]
     },
     "execution_count": 39,
     "metadata": {},
     "output_type": "execute_result"
    }
   ],
   "source": [
    "tf.__version__"
   ]
  },
  {
   "cell_type": "code",
   "execution_count": 43,
   "id": "8feb5cad",
   "metadata": {},
   "outputs": [
    {
     "name": "stdout",
     "output_type": "stream",
     "text": [
      "39/39 [==============================] - 1s 37ms/step\n",
      "20/20 [==============================] - 1s 36ms/step\n"
     ]
    }
   ],
   "source": [
    "### Lets Do the prediction and check performance metrics\n",
    "train_predict=model.predict(X_train)\n",
    "test_predict=model.predict(X_test)"
   ]
  },
  {
   "cell_type": "code",
   "execution_count": 44,
   "id": "a7323309",
   "metadata": {},
   "outputs": [],
   "source": [
    "##Transformback to original form\n",
    "train_predict=scaler.inverse_transform(train_predict)\n",
    "test_predict=scaler.inverse_transform(test_predict)"
   ]
  },
  {
   "cell_type": "code",
   "execution_count": 45,
   "id": "b014ac78",
   "metadata": {},
   "outputs": [
    {
     "data": {
      "text/plain": [
       "161.03716952311737"
      ]
     },
     "execution_count": 45,
     "metadata": {},
     "output_type": "execute_result"
    }
   ],
   "source": [
    "### Calculate RMSE performance metrics\n",
    "import math\n",
    "from sklearn.metrics import mean_squared_error\n",
    "math.sqrt(mean_squared_error(y_train,train_predict))"
   ]
  },
  {
   "cell_type": "code",
   "execution_count": 46,
   "id": "14266c24",
   "metadata": {},
   "outputs": [
    {
     "data": {
      "text/plain": [
       "113.65050088363856"
      ]
     },
     "execution_count": 46,
     "metadata": {},
     "output_type": "execute_result"
    }
   ],
   "source": [
    "### Test Data RMSE\n",
    "math.sqrt(mean_squared_error(ytest,test_predict))"
   ]
  },
  {
   "cell_type": "code",
   "execution_count": 47,
   "id": "190ee63a",
   "metadata": {},
   "outputs": [
    {
     "data": {
      "image/png": "[encoded data removed]",
      "text/plain": [
       "<Figure size 432x288 with 1 Axes>"
      ]
     },
     "metadata": {
      "needs_background": "light"
     },
     "output_type": "display_data"
    }
   ],
   "source": [
    "### Plotting \n",
    "# shift train predictions for plotting\n",
    "look_back=100\n",
    "trainPredictPlot = numpy.empty_like(df1)\n",
    "trainPredictPlot[:, :] = np.nan\n",
    "trainPredictPlot[look_back:len(train_predict)+look_back, :] = train_predict\n",
    "# shift test predictions for plotting\n",
    "testPredictPlot = numpy.empty_like(df1)\n",
    "testPredictPlot[:, :] = numpy.nan\n",
    "testPredictPlot[len(train_predict)+(look_back*2)+1:len(df1)-1, :] = test_predict\n",
    "# plot baseline and predictions\n",
    "plt.plot(scaler.inverse_transform(df1))\n",
    "plt.plot(trainPredictPlot)\n",
    "plt.plot(testPredictPlot)\n",
    "plt.show()"
   ]
  },
  {
   "cell_type": "code",
   "execution_count": 48,
   "id": "02da57b3",
   "metadata": {},
   "outputs": [
    {
     "data": {
      "text/plain": [
       "713"
      ]
     },
     "execution_count": 48,
     "metadata": {},
     "output_type": "execute_result"
    }
   ],
   "source": [
    "len(test_data)"
   ]
  },
  {
   "cell_type": "code",
   "execution_count": 49,
   "id": "8d6b7e42",
   "metadata": {},
   "outputs": [
    {
     "data": {
      "text/plain": [
       "(1, 372)"
      ]
     },
     "execution_count": 49,
     "metadata": {},
     "output_type": "execute_result"
    }
   ],
   "source": [
    "x_input=test_data[341:].reshape(1,-1)\n",
    "x_input.shape"
   ]
  },
  {
   "cell_type": "code",
   "execution_count": 50,
   "id": "0c65ea0d",
   "metadata": {},
   "outputs": [],
   "source": [
    "temp_input=list(x_input)\n",
    "temp_input=temp_input[0].tolist()"
   ]
  },
  {
   "cell_type": "code",
   "execution_count": 51,
   "id": "1920dc8a",
   "metadata": {},
   "outputs": [
    {
     "data": {
      "text/plain": [
       "[0.048815359477124176,\n",
       " 0.048815359477124176,\n",
       " 0.05310457516339867,\n",
       " 0.049632352941176405,\n",
       " 0.05065359477124176,\n",
       " 0.05126633986928103,\n",
       " 0.049632352941176405,\n",
       " 0.05902777777777779,\n",
       " 0.055555555555555525,\n",
       " 0.040849673202614345,\n",
       " 0.037377450980392135,\n",
       " 0.037377450980392135,\n",
       " 0.026552287581699308,\n",
       " 0.02879901960784309,\n",
       " 0.03165849673202614,\n",
       " 0.03165849673202614,\n",
       " 0.036356209150326724,\n",
       " 0.022058823529411742,\n",
       " 0.016748366013071836,\n",
       " 0.014501633986928053,\n",
       " 0.022263071895424813,\n",
       " 0.03615196078431371,\n",
       " 0.02675653594771238,\n",
       " 0.03206699346405223,\n",
       " 0.02696078431372545,\n",
       " 0.035743464052287566,\n",
       " 0.03594771241830064,\n",
       " 0.0404411764705882,\n",
       " 0.039215686274509776,\n",
       " 0.044117647058823484,\n",
       " 0.029820261437908446,\n",
       " 0.012254901960784326,\n",
       " 0.012867647058823484,\n",
       " 0.011437908496731986,\n",
       " 0.0024509803921567985,\n",
       " 0.005923202614379064,\n",
       " 0.0,\n",
       " 0.007148692810457491,\n",
       " 0.0042892156862744946,\n",
       " 0.006740196078431349,\n",
       " 0.006331699346405206,\n",
       " 0.011233660130718914,\n",
       " 0.019607843137254888,\n",
       " 0.02757352941176472,\n",
       " 0.030024509803921517,\n",
       " 0.03349673202614378,\n",
       " 0.04003267973856206,\n",
       " 0.040849673202614345,\n",
       " 0.03982843137254899,\n",
       " 0.041666666666666685,\n",
       " 0.0437091503267974,\n",
       " 0.047589869281045694,\n",
       " 0.03594771241830064,\n",
       " 0.028390522875817004,\n",
       " 0.024101307189542454,\n",
       " 0.017156862745098034,\n",
       " 0.015318627450980393,\n",
       " 0.017565359477124176,\n",
       " 0.02696078431372545,\n",
       " 0.02696078431372545,\n",
       " 0.03819444444444442,\n",
       " 0.028390522875817004,\n",
       " 0.02369281045751631,\n",
       " 0.029207516339869233,\n",
       " 0.02328431372549017,\n",
       " 0.019199346405228745,\n",
       " 0.006535947712418277,\n",
       " 0.000612745098039158,\n",
       " 0.007965686274509776,\n",
       " 0.012459150326797341,\n",
       " 0.01981209150326796,\n",
       " 0.019403594771241817,\n",
       " 0.022467320261437884,\n",
       " 0.031249999999999944,\n",
       " 0.02348856209150324,\n",
       " 0.024918300653594738,\n",
       " 0.02144607843137253,\n",
       " 0.04840686274509798,\n",
       " 0.04575163398692811,\n",
       " 0.03962418300653592,\n",
       " 0.039215686274509776,\n",
       " 0.047589869281045694,\n",
       " 0.04513888888888884,\n",
       " 0.041666666666666685,\n",
       " 0.04125816993464049,\n",
       " 0.050449346405228745,\n",
       " 0.055555555555555525,\n",
       " 0.05494281045751631,\n",
       " 0.054125816993464027,\n",
       " 0.04350490196078427,\n",
       " 0.04799836601307189,\n",
       " 0.0514705882352941,\n",
       " 0.05065359477124176,\n",
       " 0.03431372549019601,\n",
       " 0.04575163398692811,\n",
       " 0.0418709150326797,\n",
       " 0.04554738562091498,\n",
       " 0.03941993464052285,\n",
       " 0.02716503267973852,\n",
       " 0.031249999999999944,\n",
       " 0.05882352941176466,\n",
       " 0.07148692810457513,\n",
       " 0.08721405228758167,\n",
       " 0.08986928104575165,\n",
       " 0.10498366013071897,\n",
       " 0.08905228758169931,\n",
       " 0.10355392156862742,\n",
       " 0.10375816993464049,\n",
       " 0.12275326797385616,\n",
       " 0.1090686274509804,\n",
       " 0.09660947712418294,\n",
       " 0.10641339869281041,\n",
       " 0.10457516339869277,\n",
       " 0.11049836601307189,\n",
       " 0.11274509803921567,\n",
       " 0.0980392156862745,\n",
       " 0.09987745098039214,\n",
       " 0.08925653594771238,\n",
       " 0.07475490196078427,\n",
       " 0.08169934640522875,\n",
       " 0.08925653594771238,\n",
       " 0.09068627450980393,\n",
       " 0.08129084967320255,\n",
       " 0.08823529411764702,\n",
       " 0.08455882352941174,\n",
       " 0.07945261437908496,\n",
       " 0.08374183006535946,\n",
       " 0.0778186274509804,\n",
       " 0.09824346405228757,\n",
       " 0.090890522875817,\n",
       " 0.09007352941176466,\n",
       " 0.09558823529411759,\n",
       " 0.06862745098039214,\n",
       " 0.06372549019607837,\n",
       " 0.04942810457516339,\n",
       " 0.04799836601307189,\n",
       " 0.04534313725490191,\n",
       " 0.044321895424836555,\n",
       " 0.03941993464052285,\n",
       " 0.03799019607843135,\n",
       " 0.04656862745098034,\n",
       " 0.05085784313725489,\n",
       " 0.07209967320261434,\n",
       " 0.065359477124183,\n",
       " 0.07230392156862747,\n",
       " 0.07802287581699341,\n",
       " 0.07741013071895425,\n",
       " 0.060866013071895375,\n",
       " 0.06413398692810457,\n",
       " 0.07046568627450978,\n",
       " 0.054125816993464027,\n",
       " 0.04983660130718953,\n",
       " 0.05167483660130712,\n",
       " 0.05330882352941174,\n",
       " 0.04350490196078427,\n",
       " 0.026348039215686292,\n",
       " 0.024101307189542454,\n",
       " 0.02961601307189543,\n",
       " 0.019607843137254888,\n",
       " 0.02961601307189543,\n",
       " 0.04575163398692811,\n",
       " 0.05923202614379086,\n",
       " 0.0667892156862745,\n",
       " 0.06229575163398693,\n",
       " 0.06311274509803921,\n",
       " 0.06290849673202609,\n",
       " 0.06658496732026142,\n",
       " 0.07434640522875818,\n",
       " 0.06944444444444442,\n",
       " 0.08088235294117646,\n",
       " 0.07700163398692805,\n",
       " 0.06842320261437906,\n",
       " 0.06781045751633985,\n",
       " 0.06290849673202609,\n",
       " 0.06924019607843135,\n",
       " 0.07557189542483661,\n",
       " 0.0778186274509804,\n",
       " 0.08088235294117646,\n",
       " 0.0884395424836601,\n",
       " 0.09395424836601307,\n",
       " 0.09599673202614378,\n",
       " 0.08660130718954251,\n",
       " 0.09027777777777773,\n",
       " 0.08517156862745096,\n",
       " 0.08374183006535946,\n",
       " 0.07945261437908496,\n",
       " 0.09109477124183002,\n",
       " 0.09129901960784309,\n",
       " 0.08803104575163395,\n",
       " 0.09681372549019607,\n",
       " 0.11417483660130717,\n",
       " 0.10498366013071897,\n",
       " 0.09987745098039214,\n",
       " 0.08537581699346403,\n",
       " 0.08047385620915032,\n",
       " 0.06862745098039214,\n",
       " 0.06576797385620914,\n",
       " 0.061478758169934644,\n",
       " 0.0716911764705882,\n",
       " 0.0702614379084967,\n",
       " 0.07475490196078427,\n",
       " 0.06821895424836599,\n",
       " 0.06924019607843135,\n",
       " 0.07066993464052285,\n",
       " 0.06801470588235292,\n",
       " 0.0667892156862745,\n",
       " 0.07414215686274506,\n",
       " 0.0716911764705882,\n",
       " 0.08639705882352938,\n",
       " 0.08312908496732024,\n",
       " 0.06311274509803921,\n",
       " 0.06290849673202609,\n",
       " 0.05167483660130712,\n",
       " 0.031862745098039214,\n",
       " 0.04003267973856206,\n",
       " 0.03860294117647056,\n",
       " 0.041053921568627416,\n",
       " 0.033905228758169925,\n",
       " 0.031249999999999944,\n",
       " 0.026348039215686292,\n",
       " 0.05861928104575159,\n",
       " 0.06311274509803921,\n",
       " 0.06209150326797386,\n",
       " 0.055351307189542454,\n",
       " 0.08455882352941174,\n",
       " 0.05514705882352938,\n",
       " 0.06045751633986923,\n",
       " 0.055759803921568596,\n",
       " 0.04391339869281047,\n",
       " 0.029207516339869233,\n",
       " 0.028186274509803877,\n",
       " 0.04718137254901961,\n",
       " 0.06045751633986923,\n",
       " 0.05861928104575159,\n",
       " 0.06168300653594766,\n",
       " 0.06699346405228751,\n",
       " 0.07087418300653592,\n",
       " 0.07557189542483661,\n",
       " 0.07700163398692805,\n",
       " 0.10375816993464049,\n",
       " 0.10314542483660127,\n",
       " 0.10334967320261434,\n",
       " 0.10089869281045749,\n",
       " 0.1043709150326797,\n",
       " 0.0980392156862745,\n",
       " 0.09722222222222221,\n",
       " 0.09783496732026142,\n",
       " 0.09579248366013071,\n",
       " 0.09109477124183002,\n",
       " 0.09313725490196079,\n",
       " 0.0855800653594771,\n",
       " 0.0951797385620915,\n",
       " 0.11172385620915032,\n",
       " 0.12275326797385616,\n",
       " 0.12806372549019607,\n",
       " 0.1313316993464052,\n",
       " 0.12479575163398693,\n",
       " 0.11090686274509798,\n",
       " 0.10743464052287577,\n",
       " 0.11621732026143788,\n",
       " 0.1168300653594771,\n",
       " 0.11764705882352938,\n",
       " 0.12888071895424835,\n",
       " 0.1284722222222222,\n",
       " 0.13337418300653592,\n",
       " 0.1423611111111111,\n",
       " 0.1409313725490196,\n",
       " 0.13970588235294118,\n",
       " 0.13827614379084963,\n",
       " 0.13541666666666663,\n",
       " 0.13010620915032678,\n",
       " 0.12254901960784315,\n",
       " 0.12479575163398693,\n",
       " 0.1384803921568627,\n",
       " 0.14011437908496732,\n",
       " 0.1388888888888889,\n",
       " 0.13541666666666663,\n",
       " 0.14011437908496732,\n",
       " 0.13807189542483655,\n",
       " 0.130718954248366,\n",
       " 0.130718954248366,\n",
       " 0.12867647058823528,\n",
       " 0.11846405228758167,\n",
       " 0.14644607843137253,\n",
       " 0.1480800653594771,\n",
       " 0.159109477124183,\n",
       " 0.15992647058823523,\n",
       " 0.1578839869281045,\n",
       " 0.16441993464052285,\n",
       " 0.178921568627451,\n",
       " 0.17933006535947704,\n",
       " 0.19260620915032678,\n",
       " 0.2081290849673203,\n",
       " 0.18974673202614378,\n",
       " 0.18055555555555558,\n",
       " 0.1823937908496731,\n",
       " 0.17708333333333326,\n",
       " 0.17810457516339862,\n",
       " 0.18055555555555558,\n",
       " 0.17810457516339862,\n",
       " 0.17851307189542487,\n",
       " 0.196078431372549,\n",
       " 0.18913398692810457,\n",
       " 0.1895424836601307,\n",
       " 0.19403594771241828,\n",
       " 0.19444444444444442,\n",
       " 0.20200163398692816,\n",
       " 0.19771241830065356,\n",
       " 0.19934640522875813,\n",
       " 0.19873366013071891,\n",
       " 0.19975490196078427,\n",
       " 0.21282679738562094,\n",
       " 0.21568627450980393,\n",
       " 0.2044526143790849,\n",
       " 0.21772875816993464,\n",
       " 0.21098856209150318,\n",
       " 0.21425653594771243,\n",
       " 0.1975081699346406,\n",
       " 0.1881127450980392,\n",
       " 0.17851307189542487,\n",
       " 0.17381535947712412,\n",
       " 0.16033496732026142,\n",
       " 0.16564542483660127,\n",
       " 0.1711601307189542,\n",
       " 0.17422385620915026,\n",
       " 0.1803513071895424,\n",
       " 0.1740196078431372,\n",
       " 0.16278594771241828,\n",
       " 0.1697303921568627,\n",
       " 0.17810457516339862,\n",
       " 0.1703431372549019,\n",
       " 0.16830065359477125,\n",
       " 0.17279411764705876,\n",
       " 0.1754493464052288,\n",
       " 0.18382352941176472,\n",
       " 0.19138071895424835,\n",
       " 0.18913398692810457,\n",
       " 0.1909722222222222,\n",
       " 0.17238562091503273,\n",
       " 0.16830065359477125,\n",
       " 0.16932189542483655,\n",
       " 0.1717728758169934,\n",
       " 0.16156045751633985,\n",
       " 0.14971405228758167,\n",
       " 0.15032679738562088,\n",
       " 0.1519607843137255,\n",
       " 0.1472630718954248,\n",
       " 0.14501633986928103,\n",
       " 0.14603758169934639,\n",
       " 0.12479575163398693,\n",
       " 0.13112745098039214,\n",
       " 0.11397058823529405,\n",
       " 0.11907679738562088,\n",
       " 0.12377450980392157,\n",
       " 0.13562091503267976,\n",
       " 0.12908496732026142,\n",
       " 0.1345996732026144,\n",
       " 0.12806372549019607,\n",
       " 0.13031045751633985,\n",
       " 0.12724673202614373,\n",
       " 0.13521241830065356,\n",
       " 0.1452205882352941,\n",
       " 0.15257352941176466,\n",
       " 0.14848856209150324,\n",
       " 0.14338235294117646,\n",
       " 0.14562908496732024,\n",
       " 0.1523692810457516,\n",
       " 0.15400326797385622,\n",
       " 0.14971405228758167,\n",
       " 0.16217320261437906,\n",
       " 0.16319444444444448,\n",
       " 0.16584967320261434]"
      ]
     },
     "execution_count": 51,
     "metadata": {},
     "output_type": "execute_result"
    }
   ],
   "source": [
    "temp_input"
   ]
  },
  {
   "cell_type": "code",
   "execution_count": 52,
   "id": "8be5ee00",
   "metadata": {},
   "outputs": [
    {
     "name": "stdout",
     "output_type": "stream",
     "text": [
      "0 day input [0.04881536 0.05310458 0.04963235 0.05065359 0.05126634 0.04963235\n",
      " 0.05902778 0.05555556 0.04084967 0.03737745 0.03737745 0.02655229\n",
      " 0.02879902 0.0316585  0.0316585  0.03635621 0.02205882 0.01674837\n",
      " 0.01450163 0.02226307 0.03615196 0.02675654 0.03206699 0.02696078\n",
      " 0.03574346 0.03594771 0.04044118 0.03921569 0.04411765 0.02982026\n",
      " 0.0122549  0.01286765 0.01143791 0.00245098 0.0059232  0.\n",
      " 0.00714869 0.00428922 0.0067402  0.0063317  0.01123366 0.01960784\n",
      " 0.02757353 0.03002451 0.03349673 0.04003268 0.04084967 0.03982843\n",
      " 0.04166667 0.04370915 0.04758987 0.03594771 0.02839052 0.02410131\n",
      " 0.01715686 0.01531863 0.01756536 0.02696078 0.02696078 0.03819444\n",
      " 0.02839052 0.02369281 0.02920752 0.02328431 0.01919935 0.00653595\n",
      " 0.00061275 0.00796569 0.01245915 0.01981209 0.01940359 0.02246732\n",
      " 0.03125    0.02348856 0.0249183  0.02144608 0.04840686 0.04575163\n",
      " 0.03962418 0.03921569 0.04758987 0.04513889 0.04166667 0.04125817\n",
      " 0.05044935 0.05555556 0.05494281 0.05412582 0.0435049  0.04799837\n",
      " 0.05147059 0.05065359 0.03431373 0.04575163 0.04187092 0.04554739\n",
      " 0.03941993 0.02716503 0.03125    0.05882353 0.07148693 0.08721405\n",
      " 0.08986928 0.10498366 0.08905229 0.10355392 0.10375817 0.12275327\n",
      " 0.10906863 0.09660948 0.1064134  0.10457516 0.11049837 0.1127451\n",
      " 0.09803922 0.09987745 0.08925654 0.0747549  0.08169935 0.08925654\n",
      " 0.09068627 0.08129085 0.08823529 0.08455882 0.07945261 0.08374183\n",
      " 0.07781863 0.09824346 0.09089052 0.09007353 0.09558824 0.06862745\n",
      " 0.06372549 0.0494281  0.04799837 0.04534314 0.0443219  0.03941993\n",
      " 0.0379902  0.04656863 0.05085784 0.07209967 0.06535948 0.07230392\n",
      " 0.07802288 0.07741013 0.06086601 0.06413399 0.07046569 0.05412582\n",
      " 0.0498366  0.05167484 0.05330882 0.0435049  0.02634804 0.02410131\n",
      " 0.02961601 0.01960784 0.02961601 0.04575163 0.05923203 0.06678922\n",
      " 0.06229575 0.06311275 0.0629085  0.06658497 0.07434641 0.06944444\n",
      " 0.08088235 0.07700163 0.0684232  0.06781046 0.0629085  0.0692402\n",
      " 0.0755719  0.07781863 0.08088235 0.08843954 0.09395425 0.09599673\n",
      " 0.08660131 0.09027778 0.08517157 0.08374183 0.07945261 0.09109477\n",
      " 0.09129902 0.08803105 0.09681373 0.11417484 0.10498366 0.09987745\n",
      " 0.08537582 0.08047386 0.06862745 0.06576797 0.06147876 0.07169118\n",
      " 0.07026144 0.0747549  0.06821895 0.0692402  0.07066993 0.06801471\n",
      " 0.06678922 0.07414216 0.07169118 0.08639706 0.08312908 0.06311275\n",
      " 0.0629085  0.05167484 0.03186275 0.04003268 0.03860294 0.04105392\n",
      " 0.03390523 0.03125    0.02634804 0.05861928 0.06311275 0.0620915\n",
      " 0.05535131 0.08455882 0.05514706 0.06045752 0.0557598  0.0439134\n",
      " 0.02920752 0.02818627 0.04718137 0.06045752 0.05861928 0.06168301\n",
      " 0.06699346 0.07087418 0.0755719  0.07700163 0.10375817 0.10314542\n",
      " 0.10334967 0.10089869 0.10437092 0.09803922 0.09722222 0.09783497\n",
      " 0.09579248 0.09109477 0.09313725 0.08558007 0.09517974 0.11172386\n",
      " 0.12275327 0.12806373 0.1313317  0.12479575 0.11090686 0.10743464\n",
      " 0.11621732 0.11683007 0.11764706 0.12888072 0.12847222 0.13337418\n",
      " 0.14236111 0.14093137 0.13970588 0.13827614 0.13541667 0.13010621\n",
      " 0.12254902 0.12479575 0.13848039 0.14011438 0.13888889 0.13541667\n",
      " 0.14011438 0.1380719  0.13071895 0.13071895 0.12867647 0.11846405\n",
      " 0.14644608 0.14808007 0.15910948 0.15992647 0.15788399 0.16441993\n",
      " 0.17892157 0.17933007 0.19260621 0.20812908 0.18974673 0.18055556\n",
      " 0.18239379 0.17708333 0.17810458 0.18055556 0.17810458 0.17851307\n",
      " 0.19607843 0.18913399 0.18954248 0.19403595 0.19444444 0.20200163\n",
      " 0.19771242 0.19934641 0.19873366 0.1997549  0.2128268  0.21568627\n",
      " 0.20445261 0.21772876 0.21098856 0.21425654 0.19750817 0.18811275\n",
      " 0.17851307 0.17381536 0.16033497 0.16564542 0.17116013 0.17422386\n",
      " 0.18035131 0.17401961 0.16278595 0.16973039 0.17810458 0.17034314\n",
      " 0.16830065 0.17279412 0.17544935 0.18382353 0.19138072 0.18913399\n",
      " 0.19097222 0.17238562 0.16830065 0.1693219  0.17177288 0.16156046\n",
      " 0.14971405 0.1503268  0.15196078 0.14726307 0.14501634 0.14603758\n",
      " 0.12479575 0.13112745 0.11397059 0.1190768  0.12377451 0.13562092\n",
      " 0.12908497 0.13459967 0.12806373 0.13031046 0.12724673 0.13521242\n",
      " 0.14522059 0.15257353 0.14848856 0.14338235 0.14562908 0.15236928\n",
      " 0.15400327 0.14971405 0.1621732  0.16319444 0.16584967]\n"
     ]
    },
    {
     "ename": "ValueError",
     "evalue": "cannot reshape array of size 371 into shape (1,100,1)",
     "output_type": "error",
     "traceback": [
      "\u001b[1;31m---------------------------------------------------------------------------\u001b[0m",
      "\u001b[1;31mValueError\u001b[0m                                Traceback (most recent call last)",
      "Input \u001b[1;32mIn [52]\u001b[0m, in \u001b[0;36m<cell line: 7>\u001b[1;34m()\u001b[0m\n\u001b[0;32m     12\u001b[0m \u001b[38;5;28mprint\u001b[39m(\u001b[38;5;124m\"\u001b[39m\u001b[38;5;132;01m{}\u001b[39;00m\u001b[38;5;124m day input \u001b[39m\u001b[38;5;132;01m{}\u001b[39;00m\u001b[38;5;124m\"\u001b[39m\u001b[38;5;241m.\u001b[39mformat(i,x_input))\n\u001b[0;32m     13\u001b[0m x_input\u001b[38;5;241m=\u001b[39mx_input\u001b[38;5;241m.\u001b[39mreshape(\u001b[38;5;241m1\u001b[39m,\u001b[38;5;241m-\u001b[39m\u001b[38;5;241m1\u001b[39m)\n\u001b[1;32m---> 14\u001b[0m x_input \u001b[38;5;241m=\u001b[39m \u001b[43mx_input\u001b[49m\u001b[38;5;241;43m.\u001b[39;49m\u001b[43mreshape\u001b[49m\u001b[43m(\u001b[49m\u001b[43m(\u001b[49m\u001b[38;5;241;43m1\u001b[39;49m\u001b[43m,\u001b[49m\u001b[43m \u001b[49m\u001b[43mn_steps\u001b[49m\u001b[43m,\u001b[49m\u001b[43m \u001b[49m\u001b[38;5;241;43m1\u001b[39;49m\u001b[43m)\u001b[49m\u001b[43m)\u001b[49m\n\u001b[0;32m     15\u001b[0m \u001b[38;5;66;03m#print(x_input)\u001b[39;00m\n\u001b[0;32m     16\u001b[0m yhat \u001b[38;5;241m=\u001b[39m model\u001b[38;5;241m.\u001b[39mpredict(x_input, verbose\u001b[38;5;241m=\u001b[39m\u001b[38;5;241m0\u001b[39m)\n",
      "\u001b[1;31mValueError\u001b[0m: cannot reshape array of size 371 into shape (1,100,1)"
     ]
    }
   ],
   "source": [
    "# demonstrate prediction for next 10 days\n",
    "from numpy import array\n",
    "\n",
    "lst_output=[]\n",
    "n_steps=100\n",
    "i=0\n",
    "while(i<30):\n",
    "    \n",
    "    if(len(temp_input)>100):\n",
    "        #print(temp_input)\n",
    "        x_input=np.array(temp_input[1:])\n",
    "        print(\"{} day input {}\".format(i,x_input))\n",
    "        x_input=x_input.reshape(1,-1)\n",
    "        x_input = x_input.reshape((1, n_steps, 1))\n",
    "        #print(x_input)\n",
    "        yhat = model.predict(x_input, verbose=0)\n",
    "        print(\"{} day output {}\".format(i,yhat))\n",
    "        temp_input.extend(yhat[0].tolist())\n",
    "        temp_input=temp_input[1:]\n",
    "        #print(temp_input)\n",
    "        lst_output.extend(yhat.tolist())\n",
    "        i=i+1\n",
    "    else:\n",
    "        x_input = x_input.reshape((1, n_steps,1))\n",
    "        yhat = model.predict(x_input, verbose=0)\n",
    "        print(yhat[0])\n",
    "        temp_input.extend(yhat[0].tolist())\n",
    "        print(len(temp_input))\n",
    "        lst_output.extend(yhat.tolist())\n",
    "        i=i+1\n",
    "    \n",
    "\n",
    "print(lst_output)"
   ]
  },
  {
   "cell_type": "code",
   "execution_count": 53,
   "id": "6ead8a12",
   "metadata": {},
   "outputs": [],
   "source": [
    "day_new=np.arange(1,101)\n",
    "day_pred=np.arange(101,131)"
   ]
  },
  {
   "cell_type": "code",
   "execution_count": 54,
   "id": "9ec2df16",
   "metadata": {},
   "outputs": [],
   "source": [
    "import matplotlib.pyplot as plt"
   ]
  },
  {
   "cell_type": "code",
   "execution_count": 55,
   "id": "57d729a4",
   "metadata": {},
   "outputs": [
    {
     "data": {
      "text/plain": [
       "2035"
      ]
     },
     "execution_count": 55,
     "metadata": {},
     "output_type": "execute_result"
    }
   ],
   "source": [
    "len(df1)"
   ]
  },
  {
   "cell_type": "code",
   "execution_count": 57,
   "id": "a949111a",
   "metadata": {},
   "outputs": [
    {
     "ename": "ValueError",
     "evalue": "Expected 2D array, got 1D array instead:\narray=[].\nReshape your data either using array.reshape(-1, 1) if your data has a single feature or array.reshape(1, -1) if it contains a single sample.",
     "output_type": "error",
     "traceback": [
      "\u001b[1;31m---------------------------------------------------------------------------\u001b[0m",
      "\u001b[1;31mValueError\u001b[0m                                Traceback (most recent call last)",
      "Input \u001b[1;32mIn [57]\u001b[0m, in \u001b[0;36m<cell line: 2>\u001b[1;34m()\u001b[0m\n\u001b[0;32m      1\u001b[0m plt\u001b[38;5;241m.\u001b[39mplot(day_new,scaler\u001b[38;5;241m.\u001b[39minverse_transform(df1[\u001b[38;5;241m1935\u001b[39m:]))\n\u001b[1;32m----> 2\u001b[0m plt\u001b[38;5;241m.\u001b[39mplot(day_pred,\u001b[43mscaler\u001b[49m\u001b[38;5;241;43m.\u001b[39;49m\u001b[43minverse_transform\u001b[49m\u001b[43m(\u001b[49m\u001b[43mlst_output\u001b[49m\u001b[43m)\u001b[49m)\n",
      "File \u001b[1;32mE:\\Anaconda\\lib\\site-packages\\sklearn\\preprocessing\\_data.py:525\u001b[0m, in \u001b[0;36mMinMaxScaler.inverse_transform\u001b[1;34m(self, X)\u001b[0m\n\u001b[0;32m    511\u001b[0m \u001b[38;5;124;03m\"\"\"Undo the scaling of X according to feature_range.\u001b[39;00m\n\u001b[0;32m    512\u001b[0m \n\u001b[0;32m    513\u001b[0m \u001b[38;5;124;03mParameters\u001b[39;00m\n\u001b[1;32m   (...)\u001b[0m\n\u001b[0;32m    521\u001b[0m \u001b[38;5;124;03m    Transformed data.\u001b[39;00m\n\u001b[0;32m    522\u001b[0m \u001b[38;5;124;03m\"\"\"\u001b[39;00m\n\u001b[0;32m    523\u001b[0m check_is_fitted(\u001b[38;5;28mself\u001b[39m)\n\u001b[1;32m--> 525\u001b[0m X \u001b[38;5;241m=\u001b[39m \u001b[43mcheck_array\u001b[49m\u001b[43m(\u001b[49m\n\u001b[0;32m    526\u001b[0m \u001b[43m    \u001b[49m\u001b[43mX\u001b[49m\u001b[43m,\u001b[49m\u001b[43m \u001b[49m\u001b[43mcopy\u001b[49m\u001b[38;5;241;43m=\u001b[39;49m\u001b[38;5;28;43mself\u001b[39;49m\u001b[38;5;241;43m.\u001b[39;49m\u001b[43mcopy\u001b[49m\u001b[43m,\u001b[49m\u001b[43m \u001b[49m\u001b[43mdtype\u001b[49m\u001b[38;5;241;43m=\u001b[39;49m\u001b[43mFLOAT_DTYPES\u001b[49m\u001b[43m,\u001b[49m\u001b[43m \u001b[49m\u001b[43mforce_all_finite\u001b[49m\u001b[38;5;241;43m=\u001b[39;49m\u001b[38;5;124;43m\"\u001b[39;49m\u001b[38;5;124;43mallow-nan\u001b[39;49m\u001b[38;5;124;43m\"\u001b[39;49m\n\u001b[0;32m    527\u001b[0m \u001b[43m\u001b[49m\u001b[43m)\u001b[49m\n\u001b[0;32m    529\u001b[0m X \u001b[38;5;241m-\u001b[39m\u001b[38;5;241m=\u001b[39m \u001b[38;5;28mself\u001b[39m\u001b[38;5;241m.\u001b[39mmin_\n\u001b[0;32m    530\u001b[0m X \u001b[38;5;241m/\u001b[39m\u001b[38;5;241m=\u001b[39m \u001b[38;5;28mself\u001b[39m\u001b[38;5;241m.\u001b[39mscale_\n",
      "File \u001b[1;32mE:\\Anaconda\\lib\\site-packages\\sklearn\\utils\\validation.py:769\u001b[0m, in \u001b[0;36mcheck_array\u001b[1;34m(array, accept_sparse, accept_large_sparse, dtype, order, copy, force_all_finite, ensure_2d, allow_nd, ensure_min_samples, ensure_min_features, estimator)\u001b[0m\n\u001b[0;32m    767\u001b[0m     \u001b[38;5;66;03m# If input is 1D raise error\u001b[39;00m\n\u001b[0;32m    768\u001b[0m     \u001b[38;5;28;01mif\u001b[39;00m array\u001b[38;5;241m.\u001b[39mndim \u001b[38;5;241m==\u001b[39m \u001b[38;5;241m1\u001b[39m:\n\u001b[1;32m--> 769\u001b[0m         \u001b[38;5;28;01mraise\u001b[39;00m \u001b[38;5;167;01mValueError\u001b[39;00m(\n\u001b[0;32m    770\u001b[0m             \u001b[38;5;124m\"\u001b[39m\u001b[38;5;124mExpected 2D array, got 1D array instead:\u001b[39m\u001b[38;5;130;01m\\n\u001b[39;00m\u001b[38;5;124marray=\u001b[39m\u001b[38;5;132;01m{}\u001b[39;00m\u001b[38;5;124m.\u001b[39m\u001b[38;5;130;01m\\n\u001b[39;00m\u001b[38;5;124m\"\u001b[39m\n\u001b[0;32m    771\u001b[0m             \u001b[38;5;124m\"\u001b[39m\u001b[38;5;124mReshape your data either using array.reshape(-1, 1) if \u001b[39m\u001b[38;5;124m\"\u001b[39m\n\u001b[0;32m    772\u001b[0m             \u001b[38;5;124m\"\u001b[39m\u001b[38;5;124myour data has a single feature or array.reshape(1, -1) \u001b[39m\u001b[38;5;124m\"\u001b[39m\n\u001b[0;32m    773\u001b[0m             \u001b[38;5;124m\"\u001b[39m\u001b[38;5;124mif it contains a single sample.\u001b[39m\u001b[38;5;124m\"\u001b[39m\u001b[38;5;241m.\u001b[39mformat(array)\n\u001b[0;32m    774\u001b[0m         )\n\u001b[0;32m    776\u001b[0m \u001b[38;5;66;03m# make sure we actually converted to numeric:\u001b[39;00m\n\u001b[0;32m    777\u001b[0m \u001b[38;5;28;01mif\u001b[39;00m dtype_numeric \u001b[38;5;129;01mand\u001b[39;00m array\u001b[38;5;241m.\u001b[39mdtype\u001b[38;5;241m.\u001b[39mkind \u001b[38;5;129;01min\u001b[39;00m \u001b[38;5;124m\"\u001b[39m\u001b[38;5;124mOUSV\u001b[39m\u001b[38;5;124m\"\u001b[39m:\n",
      "\u001b[1;31mValueError\u001b[0m: Expected 2D array, got 1D array instead:\narray=[].\nReshape your data either using array.reshape(-1, 1) if your data has a single feature or array.reshape(1, -1) if it contains a single sample."
     ]
    },
    {
     "data": {
      "image/png": "[encoded data removed]",
      "text/plain": [
       "<Figure size 432x288 with 1 Axes>"
      ]
     },
     "metadata": {
      "needs_background": "light"
     },
     "output_type": "display_data"
    }
   ],
   "source": [
    "plt.plot(day_new,scaler.inverse_transform(df1[1935:]))\n",
    "plt.plot(day_pred,scaler.inverse_transform(lst_output))"
   ]
  },
  {
   "cell_type": "code",
   "execution_count": null,
   "id": "0953b1e1",
   "metadata": {},
   "outputs": [],
   "source": []
  }
 ],
 "metadata": {
  "kernelspec": {
   "display_name": "Python 3 (ipykernel)",
   "language": "python",
   "name": "python3"
  },
  "language_info": {
   "codemirror_mode": {
    "name": "ipython",
    "version": 3
   },
   "file_extension": ".py",
   "mimetype": "text/x-python",
   "name": "python",
   "nbconvert_exporter": "python",
   "pygments_lexer": "ipython3",
   "version": "3.9.12"
  }
 },
 "nbformat": 4,
 "nbformat_minor": 5
}
